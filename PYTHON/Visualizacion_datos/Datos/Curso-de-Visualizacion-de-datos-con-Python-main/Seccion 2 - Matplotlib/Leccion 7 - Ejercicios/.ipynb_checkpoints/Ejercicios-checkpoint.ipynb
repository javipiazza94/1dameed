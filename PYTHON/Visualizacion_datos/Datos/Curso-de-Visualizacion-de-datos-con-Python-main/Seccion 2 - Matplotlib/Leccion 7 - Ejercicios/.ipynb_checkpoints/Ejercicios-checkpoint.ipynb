{
 "cells": [
  {
   "cell_type": "markdown",
   "metadata": {},
   "source": [
    "# Lección 7 - Ejercicios"
   ]
  },
  {
   "cell_type": "code",
   "execution_count": 61,
   "metadata": {},
   "outputs": [],
   "source": [
    "import pandas as pd \n",
    "import numpy as np\n",
    "\n",
    "import matplotlib.pyplot as plt\n",
    "\n",
    "from pathlib import Path\n",
    "\n",
    "pd.set_option('display.max_columns', 150)\n",
    "\n",
    "%matplotlib inline"
   ]
  },
  {
   "cell_type": "code",
   "execution_count": 62,
   "metadata": {},
   "outputs": [
    {
     "name": "stdout",
     "output_type": "stream",
     "text": [
      "(11357, 22)\n"
     ]
    },
    {
     "data": {
      "text/html": [
       "<div>\n",
       "<style scoped>\n",
       "    .dataframe tbody tr th:only-of-type {\n",
       "        vertical-align: middle;\n",
       "    }\n",
       "\n",
       "    .dataframe tbody tr th {\n",
       "        vertical-align: top;\n",
       "    }\n",
       "\n",
       "    .dataframe thead th {\n",
       "        text-align: right;\n",
       "    }\n",
       "</style>\n",
       "<table border=\"1\" class=\"dataframe\">\n",
       "  <thead>\n",
       "    <tr style=\"text-align: right;\">\n",
       "      <th></th>\n",
       "      <th>ID</th>\n",
       "      <th>CaseNumber</th>\n",
       "      <th>Date</th>\n",
       "      <th>Block</th>\n",
       "      <th>IUCR</th>\n",
       "      <th>PrimaryType</th>\n",
       "      <th>Description</th>\n",
       "      <th>Location Description</th>\n",
       "      <th>Arrest</th>\n",
       "      <th>Domestic</th>\n",
       "      <th>Beat</th>\n",
       "      <th>District</th>\n",
       "      <th>Ward</th>\n",
       "      <th>CommunityArea</th>\n",
       "      <th>FBICode</th>\n",
       "      <th>X Coordinate</th>\n",
       "      <th>Y Coordinate</th>\n",
       "      <th>Year</th>\n",
       "      <th>UpdatedOn</th>\n",
       "      <th>Latitude</th>\n",
       "      <th>Longitude</th>\n",
       "      <th>Location</th>\n",
       "    </tr>\n",
       "  </thead>\n",
       "  <tbody>\n",
       "    <tr>\n",
       "      <th>0</th>\n",
       "      <td>10801165</td>\n",
       "      <td>JA100077</td>\n",
       "      <td>01/01/2017 01:00:00 AM</td>\n",
       "      <td>0000X W DIVISION ST</td>\n",
       "      <td>0460</td>\n",
       "      <td>BATTERY</td>\n",
       "      <td>SIMPLE</td>\n",
       "      <td>BAR OR TAVERN</td>\n",
       "      <td>True</td>\n",
       "      <td>False</td>\n",
       "      <td>1824</td>\n",
       "      <td>18.0</td>\n",
       "      <td>42.0</td>\n",
       "      <td>8.0</td>\n",
       "      <td>08B</td>\n",
       "      <td>NaN</td>\n",
       "      <td>NaN</td>\n",
       "      <td>2017</td>\n",
       "      <td>01/08/2017 03:48:20 PM</td>\n",
       "      <td>NaN</td>\n",
       "      <td>NaN</td>\n",
       "      <td>NaN</td>\n",
       "    </tr>\n",
       "    <tr>\n",
       "      <th>1</th>\n",
       "      <td>10801166</td>\n",
       "      <td>JA100115</td>\n",
       "      <td>01/01/2017 01:23:00 AM</td>\n",
       "      <td>084XX S SANGAMON ST</td>\n",
       "      <td>0470</td>\n",
       "      <td>PUBLIC PEACE VIOLATION</td>\n",
       "      <td>RECKLESS CONDUCT</td>\n",
       "      <td>SIDEWALK</td>\n",
       "      <td>True</td>\n",
       "      <td>False</td>\n",
       "      <td>613</td>\n",
       "      <td>6.0</td>\n",
       "      <td>21.0</td>\n",
       "      <td>71.0</td>\n",
       "      <td>24</td>\n",
       "      <td>NaN</td>\n",
       "      <td>NaN</td>\n",
       "      <td>2017</td>\n",
       "      <td>01/08/2017 03:48:20 PM</td>\n",
       "      <td>NaN</td>\n",
       "      <td>NaN</td>\n",
       "      <td>NaN</td>\n",
       "    </tr>\n",
       "    <tr>\n",
       "      <th>2</th>\n",
       "      <td>10801090</td>\n",
       "      <td>JA100010</td>\n",
       "      <td>01/01/2017 12:01:00 AM</td>\n",
       "      <td>064XX S STONY ISLAND AVE</td>\n",
       "      <td>1310</td>\n",
       "      <td>CRIMINAL DAMAGE</td>\n",
       "      <td>TO PROPERTY</td>\n",
       "      <td>RESIDENCE</td>\n",
       "      <td>False</td>\n",
       "      <td>False</td>\n",
       "      <td>314</td>\n",
       "      <td>3.0</td>\n",
       "      <td>5.0</td>\n",
       "      <td>42.0</td>\n",
       "      <td>14</td>\n",
       "      <td>NaN</td>\n",
       "      <td>NaN</td>\n",
       "      <td>2017</td>\n",
       "      <td>01/08/2017 03:48:20 PM</td>\n",
       "      <td>NaN</td>\n",
       "      <td>NaN</td>\n",
       "      <td>NaN</td>\n",
       "    </tr>\n",
       "    <tr>\n",
       "      <th>3</th>\n",
       "      <td>10801101</td>\n",
       "      <td>JA100031</td>\n",
       "      <td>01/01/2017 12:00:00 AM</td>\n",
       "      <td>074XX S SOUTH CHICAGO AVE</td>\n",
       "      <td>1320</td>\n",
       "      <td>CRIMINAL DAMAGE</td>\n",
       "      <td>TO VEHICLE</td>\n",
       "      <td>STREET</td>\n",
       "      <td>False</td>\n",
       "      <td>False</td>\n",
       "      <td>324</td>\n",
       "      <td>3.0</td>\n",
       "      <td>5.0</td>\n",
       "      <td>69.0</td>\n",
       "      <td>14</td>\n",
       "      <td>NaN</td>\n",
       "      <td>NaN</td>\n",
       "      <td>2017</td>\n",
       "      <td>01/08/2017 03:48:20 PM</td>\n",
       "      <td>NaN</td>\n",
       "      <td>NaN</td>\n",
       "      <td>NaN</td>\n",
       "    </tr>\n",
       "    <tr>\n",
       "      <th>4</th>\n",
       "      <td>10801104</td>\n",
       "      <td>JA100015</td>\n",
       "      <td>01/01/2017 12:00:00 AM</td>\n",
       "      <td>004XX W 66TH ST</td>\n",
       "      <td>0486</td>\n",
       "      <td>BATTERY</td>\n",
       "      <td>DOMESTIC BATTERY SIMPLE</td>\n",
       "      <td>APARTMENT</td>\n",
       "      <td>True</td>\n",
       "      <td>True</td>\n",
       "      <td>722</td>\n",
       "      <td>7.0</td>\n",
       "      <td>20.0</td>\n",
       "      <td>68.0</td>\n",
       "      <td>08B</td>\n",
       "      <td>NaN</td>\n",
       "      <td>NaN</td>\n",
       "      <td>2017</td>\n",
       "      <td>01/08/2017 03:48:20 PM</td>\n",
       "      <td>NaN</td>\n",
       "      <td>NaN</td>\n",
       "      <td>NaN</td>\n",
       "    </tr>\n",
       "  </tbody>\n",
       "</table>\n",
       "</div>"
      ],
      "text/plain": [
       "         ID CaseNumber                    Date                      Block  \\\n",
       "0  10801165   JA100077  01/01/2017 01:00:00 AM        0000X W DIVISION ST   \n",
       "1  10801166   JA100115  01/01/2017 01:23:00 AM        084XX S SANGAMON ST   \n",
       "2  10801090   JA100010  01/01/2017 12:01:00 AM   064XX S STONY ISLAND AVE   \n",
       "3  10801101   JA100031  01/01/2017 12:00:00 AM  074XX S SOUTH CHICAGO AVE   \n",
       "4  10801104   JA100015  01/01/2017 12:00:00 AM            004XX W 66TH ST   \n",
       "\n",
       "   IUCR             PrimaryType              Description Location Description  \\\n",
       "0  0460                 BATTERY                   SIMPLE        BAR OR TAVERN   \n",
       "1  0470  PUBLIC PEACE VIOLATION         RECKLESS CONDUCT             SIDEWALK   \n",
       "2  1310         CRIMINAL DAMAGE              TO PROPERTY            RESIDENCE   \n",
       "3  1320         CRIMINAL DAMAGE               TO VEHICLE               STREET   \n",
       "4  0486                 BATTERY  DOMESTIC BATTERY SIMPLE            APARTMENT   \n",
       "\n",
       "   Arrest  Domestic  Beat  District  Ward  CommunityArea FBICode  \\\n",
       "0    True     False  1824      18.0  42.0            8.0     08B   \n",
       "1    True     False   613       6.0  21.0           71.0      24   \n",
       "2   False     False   314       3.0   5.0           42.0      14   \n",
       "3   False     False   324       3.0   5.0           69.0      14   \n",
       "4    True      True   722       7.0  20.0           68.0     08B   \n",
       "\n",
       "   X Coordinate  Y Coordinate  Year               UpdatedOn  Latitude  \\\n",
       "0           NaN           NaN  2017  01/08/2017 03:48:20 PM       NaN   \n",
       "1           NaN           NaN  2017  01/08/2017 03:48:20 PM       NaN   \n",
       "2           NaN           NaN  2017  01/08/2017 03:48:20 PM       NaN   \n",
       "3           NaN           NaN  2017  01/08/2017 03:48:20 PM       NaN   \n",
       "4           NaN           NaN  2017  01/08/2017 03:48:20 PM       NaN   \n",
       "\n",
       "   Longitude Location  \n",
       "0        NaN      NaN  \n",
       "1        NaN      NaN  \n",
       "2        NaN      NaN  \n",
       "3        NaN      NaN  \n",
       "4        NaN      NaN  "
      ]
     },
     "execution_count": 62,
     "metadata": {},
     "output_type": "execute_result"
    }
   ],
   "source": [
    "data = pd.read_csv('Chicago_Crimes_2017.csv')\n",
    "print(data.shape)\n",
    "data.head()"
   ]
  },
  {
   "cell_type": "code",
   "execution_count": 63,
   "metadata": {},
   "outputs": [
    {
     "data": {
      "text/plain": [
       "THEFT                                2493\n",
       "BATTERY                              1974\n",
       "CRIMINAL DAMAGE                      1305\n",
       "OTHER OFFENSE                         874\n",
       "ASSAULT                               774\n",
       "MOTOR VEHICLE THEFT                   712\n",
       "BURGLARY                              667\n",
       "DECEPTIVE PRACTICE                    652\n",
       "ROBBERY                               613\n",
       "NARCOTICS                             411\n",
       "CRIMINAL TRESPASS                     317\n",
       "WEAPONS VIOLATION                     177\n",
       "OFFENSE INVOLVING CHILDREN             96\n",
       "CRIM SEXUAL ASSAULT                    64\n",
       "PUBLIC PEACE VIOLATION                 54\n",
       "INTERFERENCE WITH PUBLIC OFFICER       47\n",
       "PROSTITUTION                           32\n",
       "HOMICIDE                               31\n",
       "SEX OFFENSE                            20\n",
       "ARSON                                  13\n",
       "STALKING                                7\n",
       "KIDNAPPING                              6\n",
       "INTIMIDATION                            6\n",
       "CONCEALED CARRY LICENSE VIOLATION       5\n",
       "LIQUOR LAW VIOLATION                    3\n",
       "NON-CRIMINAL                            3\n",
       "PUBLIC INDECENCY                        1\n",
       "Name: PrimaryType, dtype: int64"
      ]
     },
     "execution_count": 63,
     "metadata": {},
     "output_type": "execute_result"
    }
   ],
   "source": [
    "data['PrimaryType'].value_counts()"
   ]
  },
  {
   "cell_type": "markdown",
   "metadata": {},
   "source": [
    "## Ejercicio 1"
   ]
  },
  {
   "cell_type": "markdown",
   "metadata": {},
   "source": [
    "Genera un gráfico de barras que contenga el nº de siniestros ocurrido en cada mes del año. El gráfico será tal que así:"
   ]
  },
  {
   "cell_type": "code",
   "execution_count": 64,
   "metadata": {},
   "outputs": [],
   "source": [
    "data['Date'] = pd.to_datetime(data['Date'], dayfirst=True)\n",
    "data['month'] = data['Date'].dt.month"
   ]
  },
  {
   "cell_type": "code",
   "execution_count": 65,
   "metadata": {},
   "outputs": [
    {
     "data": {
      "image/png": "[encoded data removed]",
      "text/plain": [
       "<Figure size 720x576 with 1 Axes>"
      ]
     },
     "metadata": {
      "needs_background": "light"
     },
     "output_type": "display_data"
    }
   ],
   "source": [
    "crimes_by_month = data.groupby('month').size()\n",
    "\n",
    "fig, ax = plt.subplots(figsize = (10, 8))\n",
    "ax.bar(x = crimes_by_month.index, height = crimes_by_month.values)\n",
    "\n",
    "ax.set_xticks(np.arange(1,13))\n",
    "ax.set_title(\"Nº siniestros por mes\")\n",
    "ax.set_ylabel(\"Nº siniestros\")\n",
    "ax.set_xlabel('Mes')\n",
    "pass"
   ]
  },
  {
   "cell_type": "markdown",
   "metadata": {},
   "source": [
    "## Ejercicio 2"
   ]
  },
  {
   "cell_type": "markdown",
   "metadata": {},
   "source": [
    "Añade al gráfico anterior, usando puntos, el nº de siniestros cuyo Primary Type = 'Battery'. \n",
    "- Representa esos puntos usando el eje derecho. \n",
    "- Muestra una leyenda con el significado de ambos\n",
    "\n",
    "El gráfico sería algo tal que así:"
   ]
  },
  {
   "cell_type": "code",
   "execution_count": 66,
   "metadata": {},
   "outputs": [
    {
     "data": {
      "image/png": "[encoded data removed]",
      "text/plain": [
       "<Figure size 720x576 with 2 Axes>"
      ]
     },
     "metadata": {
      "needs_background": "light"
     },
     "output_type": "display_data"
    }
   ],
   "source": [
    "import matplotlib.patches as mpatches\n",
    "\n",
    "crimes_by_month = data.groupby('month').size()\n",
    "crimes_battery = data[data['PrimaryType'] == \"BATTERY\"].groupby('month').size()\n",
    "\n",
    "\n",
    "fig, ax = plt.subplots(figsize = (10, 8))\n",
    "ax.bar(x = crimes_by_month.index, height = crimes_by_month.values, label = 'Nº Siniestros')\n",
    "ax.set_xticks(np.arange(1,13))\n",
    "ax.set_title(\"Nº siniestros por mes\")\n",
    "ax.set_ylabel(\"Nº siniestros\")\n",
    "ax.set_xlabel('Mes')\n",
    "\n",
    "ax1 = ax.twinx()\n",
    "ax1.scatter(x = crimes_battery.index, y = crimes_battery.values, c = 'red', label = 'Battery crimes')\n",
    "\n",
    "bar = mpatches.Patch(color='blue', label='Nº siniestros')\n",
    "point = mpatches.Patch(color='red', label='Battery crimes')\n",
    "plt.legend(handles=[bar, point], title = 'Leyenda')\n",
    "\n",
    "pass"
   ]
  },
  {
   "cell_type": "markdown",
   "metadata": {},
   "source": [
    "## Ejercicio 3\n",
    "\n",
    "Filtra solo los siniestros cuyo Primary Type son \"THEFT\", \"BATTERY\", \"CRIMINAL DAMAGE\" o \"OTHER OFFENSE\". Luego, genera 2 gráficos en el mismo fig.\n",
    "\n",
    "- El primero, será un gráfico de tartas que muestre el % que representa cada tipo en el dataset.\n",
    "- El segundo, será un gráfico de puntos, representando el nº de siniestros de cada tipo en cada mes.\n",
    "\n",
    "El resultado final, sería algo tal que así:"
   ]
  },
  {
   "cell_type": "code",
   "execution_count": 88,
   "metadata": {},
   "outputs": [
    {
     "data": {
      "text/html": [
       "<div>\n",
       "<style scoped>\n",
       "    .dataframe tbody tr th:only-of-type {\n",
       "        vertical-align: middle;\n",
       "    }\n",
       "\n",
       "    .dataframe tbody tr th {\n",
       "        vertical-align: top;\n",
       "    }\n",
       "\n",
       "    .dataframe thead th {\n",
       "        text-align: right;\n",
       "    }\n",
       "</style>\n",
       "<table border=\"1\" class=\"dataframe\">\n",
       "  <thead>\n",
       "    <tr style=\"text-align: right;\">\n",
       "      <th>PrimaryType</th>\n",
       "      <th>BATTERY</th>\n",
       "      <th>CRIMINAL DAMAGE</th>\n",
       "      <th>OTHER OFFENSE</th>\n",
       "      <th>THEFT</th>\n",
       "    </tr>\n",
       "    <tr>\n",
       "      <th>month</th>\n",
       "      <th></th>\n",
       "      <th></th>\n",
       "      <th></th>\n",
       "      <th></th>\n",
       "    </tr>\n",
       "  </thead>\n",
       "  <tbody>\n",
       "    <tr>\n",
       "      <th>1</th>\n",
       "      <td>852</td>\n",
       "      <td>538</td>\n",
       "      <td>328</td>\n",
       "      <td>1055</td>\n",
       "    </tr>\n",
       "    <tr>\n",
       "      <th>2</th>\n",
       "      <td>106</td>\n",
       "      <td>72</td>\n",
       "      <td>42</td>\n",
       "      <td>112</td>\n",
       "    </tr>\n",
       "    <tr>\n",
       "      <th>3</th>\n",
       "      <td>114</td>\n",
       "      <td>81</td>\n",
       "      <td>44</td>\n",
       "      <td>132</td>\n",
       "    </tr>\n",
       "    <tr>\n",
       "      <th>4</th>\n",
       "      <td>93</td>\n",
       "      <td>54</td>\n",
       "      <td>47</td>\n",
       "      <td>156</td>\n",
       "    </tr>\n",
       "    <tr>\n",
       "      <th>5</th>\n",
       "      <td>84</td>\n",
       "      <td>67</td>\n",
       "      <td>50</td>\n",
       "      <td>122</td>\n",
       "    </tr>\n",
       "    <tr>\n",
       "      <th>6</th>\n",
       "      <td>82</td>\n",
       "      <td>68</td>\n",
       "      <td>40</td>\n",
       "      <td>118</td>\n",
       "    </tr>\n",
       "    <tr>\n",
       "      <th>7</th>\n",
       "      <td>120</td>\n",
       "      <td>59</td>\n",
       "      <td>42</td>\n",
       "      <td>114</td>\n",
       "    </tr>\n",
       "    <tr>\n",
       "      <th>8</th>\n",
       "      <td>115</td>\n",
       "      <td>68</td>\n",
       "      <td>56</td>\n",
       "      <td>103</td>\n",
       "    </tr>\n",
       "    <tr>\n",
       "      <th>9</th>\n",
       "      <td>89</td>\n",
       "      <td>88</td>\n",
       "      <td>48</td>\n",
       "      <td>152</td>\n",
       "    </tr>\n",
       "    <tr>\n",
       "      <th>10</th>\n",
       "      <td>106</td>\n",
       "      <td>93</td>\n",
       "      <td>54</td>\n",
       "      <td>146</td>\n",
       "    </tr>\n",
       "    <tr>\n",
       "      <th>11</th>\n",
       "      <td>120</td>\n",
       "      <td>56</td>\n",
       "      <td>56</td>\n",
       "      <td>140</td>\n",
       "    </tr>\n",
       "    <tr>\n",
       "      <th>12</th>\n",
       "      <td>93</td>\n",
       "      <td>61</td>\n",
       "      <td>67</td>\n",
       "      <td>143</td>\n",
       "    </tr>\n",
       "  </tbody>\n",
       "</table>\n",
       "</div>"
      ],
      "text/plain": [
       "PrimaryType  BATTERY  CRIMINAL DAMAGE  OTHER OFFENSE  THEFT\n",
       "month                                                      \n",
       "1                852              538            328   1055\n",
       "2                106               72             42    112\n",
       "3                114               81             44    132\n",
       "4                 93               54             47    156\n",
       "5                 84               67             50    122\n",
       "6                 82               68             40    118\n",
       "7                120               59             42    114\n",
       "8                115               68             56    103\n",
       "9                 89               88             48    152\n",
       "10               106               93             54    146\n",
       "11               120               56             56    140\n",
       "12                93               61             67    143"
      ]
     },
     "execution_count": 88,
     "metadata": {},
     "output_type": "execute_result"
    }
   ],
   "source": [
    "num = df.groupby(['PrimaryType', 'month']).size().unstack().T\n",
    "num"
   ]
  },
  {
   "cell_type": "code",
   "execution_count": 91,
   "metadata": {},
   "outputs": [
    {
     "data": {
      "image/png": "[encoded data removed]",
      "text/plain": [
       "<Figure size 1440x720 with 2 Axes>"
      ]
     },
     "metadata": {
      "needs_background": "light"
     },
     "output_type": "display_data"
    }
   ],
   "source": [
    "fig, ax = plt.subplots(ncols = 2, figsize = (20, 10))\n",
    "\n",
    "df = data.query('PrimaryType in [\"THEFT\", \"BATTERY\", \"CRIMINAL DAMAGE\", \"OTHER OFFENSE\"]')\n",
    "vc = df.PrimaryType.value_counts(normalize = True).mul(100)\n",
    "num = df.groupby(['PrimaryType', 'month']).size().unstack().T\n",
    "\n",
    "ax[0].pie(vc, labels = vc.index, autopct='%1.1f%%')\n",
    "ax[1].scatter(x = num.index, y = num['THEFT'], c = 'blue', label = 'Theft')\n",
    "ax[1].scatter(x = num.index, y = num['BATTERY'], c = 'red', label = 'Battery')\n",
    "ax[1].scatter(x = num.index, y = num['CRIMINAL DAMAGE'], c = 'orange', label = 'Criminal damage')\n",
    "ax[1].scatter(x = num.index, y = num['OTHER OFFENSE'], c = 'green', label = 'Other offense')\n",
    "ax[1].legend()\n",
    "\n",
    "pass"
   ]
  }
 ],
 "metadata": {
  "kernelspec": {
   "display_name": "Python 3",
   "language": "python",
   "name": "python3"
  },
  "language_info": {
   "codemirror_mode": {
    "name": "ipython",
    "version": 3
   },
   "file_extension": ".py",
   "mimetype": "text/x-python",
   "name": "python",
   "nbconvert_exporter": "python",
   "pygments_lexer": "ipython3",
   "version": "3.7.9"
  }
 },
 "nbformat": 4,
 "nbformat_minor": 4
}
